{
 "cells": [
  {
   "cell_type": "markdown",
   "id": "59bd8f87-b49a-496a-b9ca-f99f157a1a6c",
   "metadata": {},
   "source": [
    "### Mejorar la eficacia de la red "
   ]
  },
  {
   "cell_type": "markdown",
   "id": "0a7d971a-e182-4656-a344-ad585a62c3f1",
   "metadata": {},
   "source": [
    "Ahora, cambiaremos ciertos parámetros de la red (optimizador, capas, función de activación) trabajada en keras para tratar de obtener mayor eficacia en nuestra red. A cada configuración le llamaremos un experimento."
   ]
  },
  {
   "cell_type": "code",
   "execution_count": 1,
   "id": "e19dc0a8-3f46-4a1a-b537-010feb92dc73",
   "metadata": {},
   "outputs": [],
   "source": [
    "import tensorflow as tf\n",
    "from tensorflow import keras\n",
    "from tensorflow.keras.datasets import mnist\n",
    "from tensorflow.keras.models import Sequential\n",
    "from tensorflow.keras.layers import Dense, Dropout, Activation\n",
    "from tensorflow.keras.optimizers import RMSprop, SGD\n",
    "from tensorflow.keras import regularizers\n",
    "from tensorflow.keras.optimizers import Adam\n",
    "import numpy as np\n",
    "import matplotlib.pyplot as plt"
   ]
  },
  {
   "cell_type": "code",
   "execution_count": 3,
   "id": "3208c50a-5a31-4062-a1bb-7799a57e5e6c",
   "metadata": {},
   "outputs": [],
   "source": [
    "dataset = mnist.load_data() #descargar la base de datos MNIST"
   ]
  },
  {
   "cell_type": "code",
   "execution_count": 32,
   "id": "d5fc2fc9-ba9f-4a1c-9f2c-99203616b27a",
   "metadata": {},
   "outputs": [],
   "source": [
    "!pip install mlflow --quiet"
   ]
  },
  {
   "cell_type": "code",
   "execution_count": 5,
   "id": "6ed09810-e69f-4a08-9aa4-7d1b4110897a",
   "metadata": {},
   "outputs": [],
   "source": [
    "import mlflow\n",
    "import mlflow.tensorflow\n",
    "mlflow.tensorflow.autolog()"
   ]
  },
  {
   "cell_type": "code",
   "execution_count": 21,
   "id": "b8a0d121-e4e1-4896-a448-8127038cb364",
   "metadata": {},
   "outputs": [
    {
     "name": "stdin",
     "output_type": "stream",
     "text": [
      "Enter your DAGsHub access token or password:  ········\n"
     ]
    }
   ],
   "source": [
    "import mlflow.keras\n",
    "import os\n",
    "from getpass import getpass\n",
    "\n",
    "#vinculamos la cuenta de dagshub con mlflow\n",
    "os.environ['MLFLOW_TRACKING_USERNAME'] = \"mseguracarrillo7\"\n",
    "os.environ['MLFLOW_TRACKING_PASSWORD'] = getpass(\"Enter your DAGsHub access token or password: \")\n",
    "os.environ[\"MLFLOW_TRACKING_URI\"]=\"https://dagshub.com/mseguracarrillo7/Red-densa\"\n",
    "mlflow.set_tracking_uri(\"https://dagshub.com/mseguracarrillo7/Red-densa.mlflow\")"
   ]
  },
  {
   "cell_type": "code",
   "execution_count": 11,
   "id": "1e1fc7f9-070f-4e55-aba4-23ce0532a8d7",
   "metadata": {},
   "outputs": [],
   "source": [
    "#datos de prueba y entrenamiento\n",
    "(x_train, y_train), (x_test, y_test) = dataset "
   ]
  },
  {
   "cell_type": "code",
   "execution_count": 13,
   "id": "9e2b684b-df37-4ee8-a617-cbbf806d7aa7",
   "metadata": {},
   "outputs": [],
   "source": [
    "num_classes=10  #one hot encouding para y \n",
    "y_trainc = keras.utils.to_categorical(y_train, num_classes)\n",
    "y_testc = keras.utils.to_categorical(y_test, num_classes)\n",
    "#normalizamos las imágenes a valores entre 0 y 1 \n",
    "x_trainv = x_train.reshape(60000, 784)\n",
    "x_testv = x_test.reshape(10000, 784)\n",
    "x_trainv = x_trainv.astype('float32')\n",
    "x_testv = x_testv.astype('float32')\n",
    "\n",
    "x_trainv /= 255.  # x_trainv = x_trainv/255\n",
    "x_testv /= 255."
   ]
  },
  {
   "cell_type": "markdown",
   "id": "bfad3ff5-0411-4ba6-a5aa-7281ddc8ef15",
   "metadata": {},
   "source": [
    "#### Experimento 1"
   ]
  },
  {
   "cell_type": "markdown",
   "id": "8ede058c-9db8-442e-a038-ad66d1702c4f",
   "metadata": {},
   "source": [
    "Añadiremos más neuronas en nuevas capas, se va a utilizar la función sigmoide y en la última capa una softmax.\n",
    "Usaremos el optimizador Adam y la función de costo \"categorical cross entropy\"."
   ]
  },
  {
   "cell_type": "code",
   "execution_count": 22,
   "id": "3392cc5b-0f1d-4da7-af9c-dbcb19f581bb",
   "metadata": {},
   "outputs": [],
   "source": [
    "def model_exp1():\n",
    "    \n",
    "    model = Sequential()\n",
    "    model.add(Dense(512, activation='sigmoid', input_shape=(784,))) \n",
    "    model.add(Dense(128, activation='sigmoid', input_shape=(784,)))\n",
    "    model.add(Dense(64, activation='sigmoid', input_shape=(784,)))\n",
    "    model.add(Dense(num_classes, activation='softmax')) #aplicamos softmax en la capa de salida\n",
    "\n",
    "    model.compile(optimizer=\"adam\",loss=\"categorical_crossentropy\",metrics=[\"accuracy\"])\n",
    "    return model"
   ]
  },
  {
   "cell_type": "code",
   "execution_count": 32,
   "id": "6acfe094-0b34-4e13-8431-172be16a8046",
   "metadata": {},
   "outputs": [
    {
     "name": "stdout",
     "output_type": "stream",
     "text": [
      "Epoch 1/10\n",
      "\u001b[1m1875/1875\u001b[0m \u001b[32m━━━━━━━━━━━━━━━━━━━━\u001b[0m\u001b[37m\u001b[0m \u001b[1m36s\u001b[0m 16ms/step - accuracy: 0.8891 - loss: 0.4126 - val_accuracy: 0.9486 - val_loss: 0.1748\n",
      "Epoch 2/10\n",
      "\u001b[1m1875/1875\u001b[0m \u001b[32m━━━━━━━━━━━━━━━━━━━━\u001b[0m\u001b[37m\u001b[0m \u001b[1m28s\u001b[0m 15ms/step - accuracy: 0.9591 - loss: 0.1399 - val_accuracy: 0.9669 - val_loss: 0.1105\n",
      "Epoch 3/10\n",
      "\u001b[1m1875/1875\u001b[0m \u001b[32m━━━━━━━━━━━━━━━━━━━━\u001b[0m\u001b[37m\u001b[0m \u001b[1m29s\u001b[0m 15ms/step - accuracy: 0.9725 - loss: 0.0917 - val_accuracy: 0.9699 - val_loss: 0.0959\n",
      "Epoch 4/10\n",
      "\u001b[1m1875/1875\u001b[0m \u001b[32m━━━━━━━━━━━━━━━━━━━━\u001b[0m\u001b[37m\u001b[0m \u001b[1m28s\u001b[0m 15ms/step - accuracy: 0.9800 - loss: 0.0640 - val_accuracy: 0.9739 - val_loss: 0.0804\n",
      "Epoch 5/10\n",
      "\u001b[1m1875/1875\u001b[0m \u001b[32m━━━━━━━━━━━━━━━━━━━━\u001b[0m\u001b[37m\u001b[0m \u001b[1m28s\u001b[0m 15ms/step - accuracy: 0.9858 - loss: 0.0474 - val_accuracy: 0.9722 - val_loss: 0.0915\n",
      "Epoch 6/10\n",
      "\u001b[1m1875/1875\u001b[0m \u001b[32m━━━━━━━━━━━━━━━━━━━━\u001b[0m\u001b[37m\u001b[0m \u001b[1m29s\u001b[0m 16ms/step - accuracy: 0.9890 - loss: 0.0352 - val_accuracy: 0.9784 - val_loss: 0.0714\n",
      "Epoch 7/10\n",
      "\u001b[1m1875/1875\u001b[0m \u001b[32m━━━━━━━━━━━━━━━━━━━━\u001b[0m\u001b[37m\u001b[0m \u001b[1m27s\u001b[0m 14ms/step - accuracy: 0.9917 - loss: 0.0276 - val_accuracy: 0.9783 - val_loss: 0.0795\n",
      "Epoch 8/10\n",
      "\u001b[1m1875/1875\u001b[0m \u001b[32m━━━━━━━━━━━━━━━━━━━━\u001b[0m\u001b[37m\u001b[0m \u001b[1m27s\u001b[0m 15ms/step - accuracy: 0.9934 - loss: 0.0209 - val_accuracy: 0.9767 - val_loss: 0.0821\n",
      "Epoch 9/10\n",
      "\u001b[1m1875/1875\u001b[0m \u001b[32m━━━━━━━━━━━━━━━━━━━━\u001b[0m\u001b[37m\u001b[0m \u001b[1m30s\u001b[0m 16ms/step - accuracy: 0.9942 - loss: 0.0182 - val_accuracy: 0.9801 - val_loss: 0.0723\n",
      "Epoch 10/10\n",
      "\u001b[1m1875/1875\u001b[0m \u001b[32m━━━━━━━━━━━━━━━━━━━━\u001b[0m\u001b[37m\u001b[0m \u001b[1m29s\u001b[0m 15ms/step - accuracy: 0.9960 - loss: 0.0137 - val_accuracy: 0.9721 - val_loss: 0.1083\n"
     ]
    },
    {
     "name": "stderr",
     "output_type": "stream",
     "text": [
      "2025/09/12 17:52:59 WARNING mlflow.utils.autologging_utils: Encountered unexpected error during tensorflow autologging: INTERNAL_ERROR: Response: {'error': 'unsupported endpoint, please contact support@dagshub.com'}\n"
     ]
    },
    {
     "name": "stdout",
     "output_type": "stream",
     "text": [
      "🏃 View run Experimento 1 - Más neuronas at: https://dagshub.com/mseguracarrillo7/Red-densa.mlflow/#/experiments/0/runs/b18b1ca4bb744bee852584dea448cc7c\n",
      "🧪 View experiment at: https://dagshub.com/mseguracarrillo7/Red-densa.mlflow/#/experiments/0\n"
     ]
    }
   ],
   "source": [
    "import mlflow\n",
    "import mlflow.keras\n",
    "import matplotlib.pyplot as plt\n",
    "\n",
    "# conectamos con mlflow\n",
    "with mlflow.start_run(run_name=\"Experimento 1 - Más neuronas\"):\n",
    "    model = model_exp1()\n",
    "    history = model.fit(x_trainv, y_trainc, \n",
    "                        validation_data=(x_testv, y_testc),\n",
    "                        epochs=10, batch_size=32, verbose=1)\n",
    "\n",
    "    # Registrar modelo entrenado\n",
    "    model.save(\"Modelo1.keras\")\n",
    "    mlflow.log_artifact(\"modelo1.keras\")\n",
    "\n",
    "    # Registrar hiperparámetros\n",
    "    mlflow.log_params({\n",
    "        \"epochs\": 10,\n",
    "        \"batch_size\": 32,\n",
    "        \"optimizer\": \"adam\"\n",
    "    })\n",
    "\n",
    "    # Registrar métricas última capa [-1]\n",
    "    mlflow.log_metrics({\n",
    "        \"train_accuracy\": history.history[\"accuracy\"][-1],\n",
    "        \"val_accuracy\": history.history[\"val_accuracy\"][-1]\n",
    "    })\n",
    "\n",
    "    # Registrar métricas por época en mlflow\n",
    "    for epoch in range(len(history.history[\"accuracy\"])):\n",
    "        mlflow.log_metric(\"train_accuracy_epoch\", history.history[\"accuracy\"][epoch], step=epoch)\n",
    "        mlflow.log_metric(\"val_accuracy_epoch\", history.history[\"val_accuracy\"][epoch], step=epoch)\n",
    "        mlflow.log_metric(\"train_loss_epoch\", history.history[\"loss\"][epoch], step=epoch)\n",
    "        mlflow.log_metric(\"val_loss_epoch\", history.history[\"val_loss\"][epoch], step=epoch)\n",
    "\n",
    "    # Gráfica de accuracy\n",
    "    plt.figure()\n",
    "    plt.plot(history.history[\"accuracy\"], label=\"Entrenamiento\")\n",
    "    plt.plot(history.history[\"val_accuracy\"], label=\"Validación\")\n",
    "    plt.xlabel(\"Época\")\n",
    "    plt.ylabel(\"Exactitud\")\n",
    "    plt.legend()\n",
    "    plt.title(\"Curva de Accuracy\")\n",
    "    plt.savefig(\"accuracy_curve.png\")\n",
    "    plt.close()\n",
    "\n",
    "    # Gráfica de loss\n",
    "    plt.figure()\n",
    "    plt.plot(history.history[\"loss\"], label=\"Entrenamiento\")\n",
    "    plt.plot(history.history[\"val_loss\"], label=\"Validación\")\n",
    "    plt.xlabel(\"Época\")\n",
    "    plt.ylabel(\"Pérdida\")\n",
    "    plt.legend()\n",
    "    plt.title(\"Curva de Pérdida\")\n",
    "    plt.savefig(\"loss_curve.png\")\n",
    "    plt.close()\n",
    "\n",
    "    # Subir imágenes a MLflow/Dagshub\n",
    "    mlflow.log_artifact(\"accuracy_curve.png\")\n",
    "    mlflow.log_artifact(\"loss_curve.png\")\n"
   ]
  },
  {
   "cell_type": "markdown",
   "id": "a2fbbe22-f5df-41dd-b9e9-4aa892a790af",
   "metadata": {},
   "source": [
    "#### Experimento 2"
   ]
  },
  {
   "cell_type": "markdown",
   "id": "55687d94-c005-4980-ad6f-bf0bc958ff9c",
   "metadata": {},
   "source": [
    "En este modelo, también agregaremos capas con neuronas, pero usaremos como función de activuación a $relu$, mantendremos categorical cross entropy y también el optimizador Adam, pero ahora con un learning rate de 0.0005."
   ]
  },
  {
   "cell_type": "code",
   "execution_count": 15,
   "id": "87fac1f4-dbad-4dbb-93cb-dd96cf989c88",
   "metadata": {},
   "outputs": [],
   "source": [
    "optimizer = Adam(learning_rate=0.0005)"
   ]
  },
  {
   "cell_type": "code",
   "execution_count": 17,
   "id": "1c3e23cc-48aa-47bc-a8a7-f41db47956d7",
   "metadata": {},
   "outputs": [],
   "source": [
    "# Red más ancha y con función de acttivación 'relu' , la última sigue siendo softmax\n",
    "def model_exp2():\n",
    "    model2 = Sequential()\n",
    "    model2.add(Dense(512, activation='relu', input_shape=(784,))) \n",
    "    model2.add(Dense(128, activation='relu', input_shape=(784,)))\n",
    "    model2.add(Dense(128, activation='relu', input_shape=(784,)))\n",
    "    model2.add(Dense(64, activation='relu', input_shape=(784,)))\n",
    "    model2.add(Dense(num_classes, activation='softmax')) #aplicamos softmax en la capa de salida\n",
    "\n",
    "    model2.compile(optimizer=optimizer,loss=\"categorical_crossentropy\",metrics=[\"accuracy\"])\n",
    "    return model2"
   ]
  },
  {
   "cell_type": "code",
   "execution_count": 23,
   "id": "0f405c75-048a-40e1-8e8f-320665f4762e",
   "metadata": {},
   "outputs": [
    {
     "name": "stderr",
     "output_type": "stream",
     "text": [
      "C:\\Users\\Moises\\anaconda3\\envs\\tf_env\\lib\\site-packages\\keras\\src\\layers\\core\\dense.py:92: UserWarning: Do not pass an `input_shape`/`input_dim` argument to a layer. When using Sequential models, prefer using an `Input(shape)` object as the first layer in the model instead.\n",
      "  super().__init__(activity_regularizer=activity_regularizer, **kwargs)\n"
     ]
    },
    {
     "name": "stdout",
     "output_type": "stream",
     "text": [
      "Epoch 1/10\n",
      "\u001b[1m1875/1875\u001b[0m \u001b[32m━━━━━━━━━━━━━━━━━━━━\u001b[0m\u001b[37m\u001b[0m \u001b[1m31s\u001b[0m 15ms/step - accuracy: 0.9353 - loss: 0.2120 - val_accuracy: 0.9666 - val_loss: 0.1106\n",
      "Epoch 2/10\n",
      "\u001b[1m1875/1875\u001b[0m \u001b[32m━━━━━━━━━━━━━━━━━━━━\u001b[0m\u001b[37m\u001b[0m \u001b[1m41s\u001b[0m 15ms/step - accuracy: 0.9717 - loss: 0.0944 - val_accuracy: 0.9702 - val_loss: 0.1010\n",
      "Epoch 3/10\n",
      "\u001b[1m1875/1875\u001b[0m \u001b[32m━━━━━━━━━━━━━━━━━━━━\u001b[0m\u001b[37m\u001b[0m \u001b[1m29s\u001b[0m 15ms/step - accuracy: 0.9792 - loss: 0.0673 - val_accuracy: 0.9743 - val_loss: 0.0895\n",
      "Epoch 4/10\n",
      "\u001b[1m1875/1875\u001b[0m \u001b[32m━━━━━━━━━━━━━━━━━━━━\u001b[0m\u001b[37m\u001b[0m \u001b[1m28s\u001b[0m 15ms/step - accuracy: 0.9837 - loss: 0.0539 - val_accuracy: 0.9778 - val_loss: 0.0841\n",
      "Epoch 5/10\n",
      "\u001b[1m1875/1875\u001b[0m \u001b[32m━━━━━━━━━━━━━━━━━━━━\u001b[0m\u001b[37m\u001b[0m \u001b[1m29s\u001b[0m 16ms/step - accuracy: 0.9863 - loss: 0.0442 - val_accuracy: 0.9773 - val_loss: 0.0821\n",
      "Epoch 6/10\n",
      "\u001b[1m1875/1875\u001b[0m \u001b[32m━━━━━━━━━━━━━━━━━━━━\u001b[0m\u001b[37m\u001b[0m \u001b[1m29s\u001b[0m 15ms/step - accuracy: 0.9888 - loss: 0.0350 - val_accuracy: 0.9792 - val_loss: 0.0778\n",
      "Epoch 7/10\n",
      "\u001b[1m1875/1875\u001b[0m \u001b[32m━━━━━━━━━━━━━━━━━━━━\u001b[0m\u001b[37m\u001b[0m \u001b[1m39s\u001b[0m 14ms/step - accuracy: 0.9902 - loss: 0.0313 - val_accuracy: 0.9789 - val_loss: 0.0827\n",
      "Epoch 8/10\n",
      "\u001b[1m1875/1875\u001b[0m \u001b[32m━━━━━━━━━━━━━━━━━━━━\u001b[0m\u001b[37m\u001b[0m \u001b[1m28s\u001b[0m 15ms/step - accuracy: 0.9915 - loss: 0.0279 - val_accuracy: 0.9801 - val_loss: 0.0807\n",
      "Epoch 9/10\n",
      "\u001b[1m1875/1875\u001b[0m \u001b[32m━━━━━━━━━━━━━━━━━━━━\u001b[0m\u001b[37m\u001b[0m \u001b[1m30s\u001b[0m 16ms/step - accuracy: 0.9925 - loss: 0.0253 - val_accuracy: 0.9805 - val_loss: 0.0935\n",
      "Epoch 10/10\n",
      "\u001b[1m1875/1875\u001b[0m \u001b[32m━━━━━━━━━━━━━━━━━━━━\u001b[0m\u001b[37m\u001b[0m \u001b[1m29s\u001b[0m 16ms/step - accuracy: 0.9930 - loss: 0.0229 - val_accuracy: 0.9812 - val_loss: 0.0821\n"
     ]
    },
    {
     "name": "stderr",
     "output_type": "stream",
     "text": [
      "2025/09/12 19:08:48 WARNING mlflow.utils.autologging_utils: Encountered unexpected error during tensorflow autologging: INTERNAL_ERROR: Response: {'error': 'unsupported endpoint, please contact support@dagshub.com'}\n"
     ]
    },
    {
     "name": "stdout",
     "output_type": "stream",
     "text": [
      "🏃 View run Experimento 2 - Relu at: https://dagshub.com/mseguracarrillo7/Red-densa.mlflow/#/experiments/0/runs/dd90f65b567741e196da39ce9af5d9db\n",
      "🧪 View experiment at: https://dagshub.com/mseguracarrillo7/Red-densa.mlflow/#/experiments/0\n"
     ]
    }
   ],
   "source": [
    "with mlflow.start_run(run_name=\"Experimento 2 - Relu\"):\n",
    "    model2 = model_exp2()\n",
    "    history = model2.fit(x_trainv, y_trainc, \n",
    "                        validation_data=(x_testv, y_testc),\n",
    "                        epochs=10, batch_size=32, verbose=1)\n",
    "\n",
    "    # Registrar modelo entrenado\n",
    "    model2.save(\"Modelo2.keras\")\n",
    "    mlflow.log_artifact(\"modelo2.keras\")\n",
    "\n",
    "    # Registrar hiperparámetros\n",
    "    mlflow.log_params({\n",
    "        \"epochs\": 10,\n",
    "        \"batch_size\": 32,\n",
    "        \"optimizer\": \"adam\"\n",
    "    })\n",
    "\n",
    "    # Registrar métricas última capa [-1]\n",
    "    mlflow.log_metrics({\n",
    "        \"train_accuracy\": history.history[\"accuracy\"][-1],\n",
    "        \"val_accuracy\": history.history[\"val_accuracy\"][-1]\n",
    "    })\n",
    "\n",
    "    # Registrar métricas por época en mlflow\n",
    "    for epoch in range(len(history.history[\"accuracy\"])):\n",
    "        mlflow.log_metric(\"train_accuracy_epoch\", history.history[\"accuracy\"][epoch], step=epoch)\n",
    "        mlflow.log_metric(\"val_accuracy_epoch\", history.history[\"val_accuracy\"][epoch], step=epoch)\n",
    "        mlflow.log_metric(\"train_loss_epoch\", history.history[\"loss\"][epoch], step=epoch)\n",
    "        mlflow.log_metric(\"val_loss_epoch\", history.history[\"val_loss\"][epoch], step=epoch)\n",
    "    "
   ]
  },
  {
   "cell_type": "code",
   "execution_count": 25,
   "id": "6872323d-1d0c-4eba-86cd-1e596b326628",
   "metadata": {},
   "outputs": [
    {
     "name": "stdout",
     "output_type": "stream",
     "text": [
      "\u001b[1m313/313\u001b[0m \u001b[32m━━━━━━━━━━━━━━━━━━━━\u001b[0m\u001b[37m\u001b[0m \u001b[1m2s\u001b[0m 6ms/step - accuracy: 0.9812 - loss: 0.0821\n",
      "Exactitud en el conjunto de prueba: 0.9812\n",
      "Valor de la función de pérdida: 0.0821\n"
     ]
    }
   ],
   "source": [
    "test_loss, test_acc = model2.evaluate(x_testv, y_testc, verbose=1)\n",
    "print(f\"Exactitud en el conjunto de prueba: {test_acc:.4f}\")"
   ]
  },
  {
   "cell_type": "markdown",
   "id": "02296268-0c7d-400e-a314-7cd822f39806",
   "metadata": {},
   "source": [
    "#### Experimento 3"
   ]
  },
  {
   "cell_type": "markdown",
   "id": "7f8ec5f1-87f7-4ef8-b4bd-b93fc8590727",
   "metadata": {},
   "source": [
    "Para este experimento usaré la función de activación $tanh$ y cambiaré el optimizador por $SGD$. También aumentaré el tamaño de los mini batches y el número de épocas."
   ]
  },
  {
   "cell_type": "code",
   "execution_count": 32,
   "id": "bb26ca66-4587-414c-a6cb-2e511c33e836",
   "metadata": {},
   "outputs": [],
   "source": [
    "def model_exp3():\n",
    "    model3 = Sequential()\n",
    "    model3.add(Dense(512, activation='tanh', input_shape=(784,))) \n",
    "    model3.add(Dense(128, activation='tanh', input_shape=(784,)))\n",
    "    model3.add(Dense(128, activation='tanh', input_shape=(784,)))\n",
    "    model3.add(Dense(64, activation='tanh', input_shape=(784,)))\n",
    "    model3.add(Dense(num_classes, activation='softmax')) #aplicamos softmax en la capa de salida\n",
    "\n",
    "    model3.compile(optimizer=SGD(learning_rate=0.01),loss=\"categorical_crossentropy\",metrics=[\"accuracy\"])\n",
    "    return model3"
   ]
  },
  {
   "cell_type": "code",
   "execution_count": 34,
   "id": "3978864d-fad0-4d90-b5c3-1f23b67189ea",
   "metadata": {},
   "outputs": [
    {
     "name": "stdout",
     "output_type": "stream",
     "text": [
      "Epoch 1/30\n",
      "\u001b[1m469/469\u001b[0m \u001b[32m━━━━━━━━━━━━━━━━━━━━\u001b[0m\u001b[37m\u001b[0m \u001b[1m11s\u001b[0m 21ms/step - accuracy: 0.7938 - loss: 0.8535 - val_accuracy: 0.8838 - val_loss: 0.4706\n",
      "Epoch 2/30\n",
      "\u001b[1m469/469\u001b[0m \u001b[32m━━━━━━━━━━━━━━━━━━━━\u001b[0m\u001b[37m\u001b[0m \u001b[1m7s\u001b[0m 16ms/step - accuracy: 0.8918 - loss: 0.4166 - val_accuracy: 0.9064 - val_loss: 0.3544\n",
      "Epoch 3/30\n",
      "\u001b[1m469/469\u001b[0m \u001b[32m━━━━━━━━━━━━━━━━━━━━\u001b[0m\u001b[37m\u001b[0m \u001b[1m9s\u001b[0m 20ms/step - accuracy: 0.9064 - loss: 0.3418 - val_accuracy: 0.9137 - val_loss: 0.3098\n",
      "Epoch 4/30\n",
      "\u001b[1m469/469\u001b[0m \u001b[32m━━━━━━━━━━━━━━━━━━━━\u001b[0m\u001b[37m\u001b[0m \u001b[1m8s\u001b[0m 16ms/step - accuracy: 0.9156 - loss: 0.3041 - val_accuracy: 0.9206 - val_loss: 0.2833\n",
      "Epoch 5/30\n",
      "\u001b[1m469/469\u001b[0m \u001b[32m━━━━━━━━━━━━━━━━━━━━\u001b[0m\u001b[37m\u001b[0m \u001b[1m9s\u001b[0m 19ms/step - accuracy: 0.9217 - loss: 0.2795 - val_accuracy: 0.9262 - val_loss: 0.2639\n",
      "Epoch 6/30\n",
      "\u001b[1m469/469\u001b[0m \u001b[32m━━━━━━━━━━━━━━━━━━━━\u001b[0m\u001b[37m\u001b[0m \u001b[1m7s\u001b[0m 15ms/step - accuracy: 0.9255 - loss: 0.2605 - val_accuracy: 0.9294 - val_loss: 0.2465\n",
      "Epoch 7/30\n",
      "\u001b[1m469/469\u001b[0m \u001b[32m━━━━━━━━━━━━━━━━━━━━\u001b[0m\u001b[37m\u001b[0m \u001b[1m10s\u001b[0m 15ms/step - accuracy: 0.9302 - loss: 0.2448 - val_accuracy: 0.9312 - val_loss: 0.2357\n",
      "Epoch 8/30\n",
      "\u001b[1m469/469\u001b[0m \u001b[32m━━━━━━━━━━━━━━━━━━━━\u001b[0m\u001b[37m\u001b[0m \u001b[1m9s\u001b[0m 18ms/step - accuracy: 0.9334 - loss: 0.2312 - val_accuracy: 0.9357 - val_loss: 0.2238\n",
      "Epoch 9/30\n",
      "\u001b[1m469/469\u001b[0m \u001b[32m━━━━━━━━━━━━━━━━━━━━\u001b[0m\u001b[37m\u001b[0m \u001b[1m8s\u001b[0m 14ms/step - accuracy: 0.9372 - loss: 0.2194 - val_accuracy: 0.9384 - val_loss: 0.2129\n",
      "Epoch 10/30\n",
      "\u001b[1m469/469\u001b[0m \u001b[32m━━━━━━━━━━━━━━━━━━━━\u001b[0m\u001b[37m\u001b[0m \u001b[1m9s\u001b[0m 19ms/step - accuracy: 0.9402 - loss: 0.2085 - val_accuracy: 0.9389 - val_loss: 0.2031\n",
      "Epoch 11/30\n",
      "\u001b[1m469/469\u001b[0m \u001b[32m━━━━━━━━━━━━━━━━━━━━\u001b[0m\u001b[37m\u001b[0m \u001b[1m7s\u001b[0m 15ms/step - accuracy: 0.9429 - loss: 0.1983 - val_accuracy: 0.9414 - val_loss: 0.1952\n",
      "Epoch 12/30\n",
      "\u001b[1m469/469\u001b[0m \u001b[32m━━━━━━━━━━━━━━━━━━━━\u001b[0m\u001b[37m\u001b[0m \u001b[1m11s\u001b[0m 18ms/step - accuracy: 0.9459 - loss: 0.1893 - val_accuracy: 0.9433 - val_loss: 0.1865\n",
      "Epoch 13/30\n",
      "\u001b[1m469/469\u001b[0m \u001b[32m━━━━━━━━━━━━━━━━━━━━\u001b[0m\u001b[37m\u001b[0m \u001b[1m8s\u001b[0m 17ms/step - accuracy: 0.9482 - loss: 0.1806 - val_accuracy: 0.9465 - val_loss: 0.1803\n",
      "Epoch 14/30\n",
      "\u001b[1m469/469\u001b[0m \u001b[32m━━━━━━━━━━━━━━━━━━━━\u001b[0m\u001b[37m\u001b[0m \u001b[1m8s\u001b[0m 16ms/step - accuracy: 0.9501 - loss: 0.1727 - val_accuracy: 0.9491 - val_loss: 0.1713\n",
      "Epoch 15/30\n",
      "\u001b[1m469/469\u001b[0m \u001b[32m━━━━━━━━━━━━━━━━━━━━\u001b[0m\u001b[37m\u001b[0m \u001b[1m9s\u001b[0m 19ms/step - accuracy: 0.9524 - loss: 0.1656 - val_accuracy: 0.9505 - val_loss: 0.1658\n",
      "Epoch 16/30\n",
      "\u001b[1m469/469\u001b[0m \u001b[32m━━━━━━━━━━━━━━━━━━━━\u001b[0m\u001b[37m\u001b[0m \u001b[1m8s\u001b[0m 17ms/step - accuracy: 0.9542 - loss: 0.1589 - val_accuracy: 0.9527 - val_loss: 0.1591\n",
      "Epoch 17/30\n",
      "\u001b[1m469/469\u001b[0m \u001b[32m━━━━━━━━━━━━━━━━━━━━\u001b[0m\u001b[37m\u001b[0m \u001b[1m9s\u001b[0m 19ms/step - accuracy: 0.9561 - loss: 0.1524 - val_accuracy: 0.9532 - val_loss: 0.1544\n",
      "Epoch 18/30\n",
      "\u001b[1m469/469\u001b[0m \u001b[32m━━━━━━━━━━━━━━━━━━━━\u001b[0m\u001b[37m\u001b[0m \u001b[1m8s\u001b[0m 18ms/step - accuracy: 0.9578 - loss: 0.1464 - val_accuracy: 0.9553 - val_loss: 0.1486\n",
      "Epoch 19/30\n",
      "\u001b[1m469/469\u001b[0m \u001b[32m━━━━━━━━━━━━━━━━━━━━\u001b[0m\u001b[37m\u001b[0m \u001b[1m7s\u001b[0m 15ms/step - accuracy: 0.9592 - loss: 0.1409 - val_accuracy: 0.9569 - val_loss: 0.1439\n",
      "Epoch 20/30\n",
      "\u001b[1m469/469\u001b[0m \u001b[32m━━━━━━━━━━━━━━━━━━━━\u001b[0m\u001b[37m\u001b[0m \u001b[1m8s\u001b[0m 16ms/step - accuracy: 0.9611 - loss: 0.1355 - val_accuracy: 0.9580 - val_loss: 0.1394\n",
      "Epoch 21/30\n",
      "\u001b[1m469/469\u001b[0m \u001b[32m━━━━━━━━━━━━━━━━━━━━\u001b[0m\u001b[37m\u001b[0m \u001b[1m10s\u001b[0m 15ms/step - accuracy: 0.9628 - loss: 0.1306 - val_accuracy: 0.9593 - val_loss: 0.1359\n",
      "Epoch 22/30\n",
      "\u001b[1m469/469\u001b[0m \u001b[32m━━━━━━━━━━━━━━━━━━━━\u001b[0m\u001b[37m\u001b[0m \u001b[1m8s\u001b[0m 17ms/step - accuracy: 0.9636 - loss: 0.1260 - val_accuracy: 0.9601 - val_loss: 0.1310\n",
      "Epoch 23/30\n",
      "\u001b[1m469/469\u001b[0m \u001b[32m━━━━━━━━━━━━━━━━━━━━\u001b[0m\u001b[37m\u001b[0m \u001b[1m7s\u001b[0m 15ms/step - accuracy: 0.9650 - loss: 0.1216 - val_accuracy: 0.9620 - val_loss: 0.1297\n",
      "Epoch 24/30\n",
      "\u001b[1m469/469\u001b[0m \u001b[32m━━━━━━━━━━━━━━━━━━━━\u001b[0m\u001b[37m\u001b[0m \u001b[1m9s\u001b[0m 18ms/step - accuracy: 0.9663 - loss: 0.1173 - val_accuracy: 0.9623 - val_loss: 0.1244\n",
      "Epoch 25/30\n",
      "\u001b[1m469/469\u001b[0m \u001b[32m━━━━━━━━━━━━━━━━━━━━\u001b[0m\u001b[37m\u001b[0m \u001b[1m7s\u001b[0m 15ms/step - accuracy: 0.9676 - loss: 0.1134 - val_accuracy: 0.9639 - val_loss: 0.1207\n",
      "Epoch 26/30\n",
      "\u001b[1m469/469\u001b[0m \u001b[32m━━━━━━━━━━━━━━━━━━━━\u001b[0m\u001b[37m\u001b[0m \u001b[1m8s\u001b[0m 18ms/step - accuracy: 0.9685 - loss: 0.1097 - val_accuracy: 0.9641 - val_loss: 0.1181\n",
      "Epoch 27/30\n",
      "\u001b[1m469/469\u001b[0m \u001b[32m━━━━━━━━━━━━━━━━━━━━\u001b[0m\u001b[37m\u001b[0m \u001b[1m7s\u001b[0m 15ms/step - accuracy: 0.9700 - loss: 0.1063 - val_accuracy: 0.9645 - val_loss: 0.1151\n",
      "Epoch 28/30\n",
      "\u001b[1m469/469\u001b[0m \u001b[32m━━━━━━━━━━━━━━━━━━━━\u001b[0m\u001b[37m\u001b[0m \u001b[1m8s\u001b[0m 18ms/step - accuracy: 0.9706 - loss: 0.1027 - val_accuracy: 0.9661 - val_loss: 0.1122\n",
      "Epoch 29/30\n",
      "\u001b[1m469/469\u001b[0m \u001b[32m━━━━━━━━━━━━━━━━━━━━\u001b[0m\u001b[37m\u001b[0m \u001b[1m7s\u001b[0m 15ms/step - accuracy: 0.9717 - loss: 0.0995 - val_accuracy: 0.9673 - val_loss: 0.1100\n",
      "Epoch 30/30\n",
      "\u001b[1m469/469\u001b[0m \u001b[32m━━━━━━━━━━━━━━━━━━━━\u001b[0m\u001b[37m\u001b[0m \u001b[1m8s\u001b[0m 17ms/step - accuracy: 0.9731 - loss: 0.0963 - val_accuracy: 0.9673 - val_loss: 0.1072\n"
     ]
    },
    {
     "name": "stderr",
     "output_type": "stream",
     "text": [
      "2025/09/12 19:26:53 WARNING mlflow.utils.autologging_utils: Encountered unexpected error during tensorflow autologging: INTERNAL_ERROR: Response: {'error': 'unsupported endpoint, please contact support@dagshub.com'}\n"
     ]
    },
    {
     "name": "stdout",
     "output_type": "stream",
     "text": [
      "🏃 View run Experimento 3 - Tanh at: https://dagshub.com/mseguracarrillo7/Red-densa.mlflow/#/experiments/0/runs/41a8a5618076443594c1c2c9e771e17a\n",
      "🧪 View experiment at: https://dagshub.com/mseguracarrillo7/Red-densa.mlflow/#/experiments/0\n"
     ]
    }
   ],
   "source": [
    "with mlflow.start_run(run_name=\"Experimento 3 - Tanh\"):\n",
    "    model3 = model_exp3()\n",
    "    history = model3.fit(x_trainv, y_trainc, \n",
    "                        validation_data=(x_testv, y_testc),\n",
    "                        epochs=30, batch_size=128, verbose=1)\n",
    "\n",
    "    # Registrar modelo entrenado\n",
    "    model3.save(\"Modelo3.keras\")\n",
    "    mlflow.log_artifact(\"modelo3.keras\")\n",
    "\n",
    "    # Registrar hiperparámetros\n",
    "    mlflow.log_params({\n",
    "        \"epochs\": 30,\n",
    "        \"batch_size\": 128,\n",
    "        \"optimizer\": SGD(learning_rate=0.01)\n",
    "    })\n",
    "\n",
    "    # Registrar métricas última capa [-1]\n",
    "    mlflow.log_metrics({\n",
    "        \"train_accuracy\": history.history[\"accuracy\"][-1],\n",
    "        \"val_accuracy\": history.history[\"val_accuracy\"][-1]\n",
    "    })\n",
    "\n",
    "    # Registrar métricas por época en mlflow\n",
    "    for epoch in range(len(history.history[\"accuracy\"])):\n",
    "        mlflow.log_metric(\"train_accuracy_epoch\", history.history[\"accuracy\"][epoch], step=epoch)\n",
    "        mlflow.log_metric(\"val_accuracy_epoch\", history.history[\"val_accuracy\"][epoch], step=epoch)\n",
    "        mlflow.log_metric(\"train_loss_epoch\", history.history[\"loss\"][epoch], step=epoch)\n",
    "        mlflow.log_metric(\"val_loss_epoch\", history.history[\"val_loss\"][epoch], step=epoch)\n",
    "    "
   ]
  },
  {
   "cell_type": "code",
   "execution_count": 35,
   "id": "9071c22c-5a8e-4014-85d0-32ed05ffe5db",
   "metadata": {},
   "outputs": [
    {
     "name": "stdout",
     "output_type": "stream",
     "text": [
      "\u001b[1m313/313\u001b[0m \u001b[32m━━━━━━━━━━━━━━━━━━━━\u001b[0m\u001b[37m\u001b[0m \u001b[1m2s\u001b[0m 6ms/step - accuracy: 0.9673 - loss: 0.1072\n",
      "Exactitud en el conjunto de prueba: 0.9673\n"
     ]
    }
   ],
   "source": [
    "test_loss, test_acc = model3.evaluate(x_testv, y_testc, verbose=1)\n",
    "print(f\"Exactitud en el conjunto de prueba: {test_acc:.4f}\")"
   ]
  },
  {
   "cell_type": "markdown",
   "id": "586cf615-780e-4622-8984-6d6815f77b44",
   "metadata": {},
   "source": [
    "#### Experimento 4"
   ]
  },
  {
   "cell_type": "markdown",
   "id": "aaa7daec-c10f-49ca-a71a-69c39360e0b7",
   "metadata": {},
   "source": [
    "Para la útima configuración utilizaré la función de activación $selu$, el optimizador Adam y usaré el número de épocas y tamaño de mini batches del experimento 3, agregaré otra capa de neuronas."
   ]
  },
  {
   "cell_type": "code",
   "execution_count": 48,
   "id": "3db60b4e-ba31-4134-aae5-d61257fb3481",
   "metadata": {},
   "outputs": [],
   "source": [
    "def model_exp4():\n",
    "    model4 = Sequential()\n",
    "    model4.add(Dense(512, activation='selu', input_shape=(784,))) \n",
    "    model4.add(Dense(128, activation='selu', input_shape=(784,)))\n",
    "    model4.add(Dense(128, activation='selu', input_shape=(784,)))\n",
    "    model4.add(Dense(64, activation='selu', input_shape=(784,)))\n",
    "    model4.add(Dense(64, activation='selu', input_shape=(784,)))\n",
    "    model4.add(Dense(num_classes, activation='softmax')) #aplicamos softmax en la capa de salida\n",
    "\n",
    "    model4.compile(optimizer=\"adam\",loss=\"categorical_crossentropy\",metrics=[\"accuracy\"])\n",
    "    return model4"
   ]
  },
  {
   "cell_type": "code",
   "execution_count": 50,
   "id": "d4503ab5-1301-4dac-9854-c0814fa808a3",
   "metadata": {},
   "outputs": [
    {
     "name": "stdout",
     "output_type": "stream",
     "text": [
      "Epoch 1/30\n",
      "\u001b[1m469/469\u001b[0m \u001b[32m━━━━━━━━━━━━━━━━━━━━\u001b[0m\u001b[37m\u001b[0m \u001b[1m16s\u001b[0m 24ms/step - accuracy: 0.9166 - loss: 0.2765 - val_accuracy: 0.9485 - val_loss: 0.1633\n",
      "Epoch 2/30\n",
      "\u001b[1m469/469\u001b[0m \u001b[32m━━━━━━━━━━━━━━━━━━━━\u001b[0m\u001b[37m\u001b[0m \u001b[1m11s\u001b[0m 24ms/step - accuracy: 0.9612 - loss: 0.1269 - val_accuracy: 0.9655 - val_loss: 0.1122\n",
      "Epoch 3/30\n",
      "\u001b[1m469/469\u001b[0m \u001b[32m━━━━━━━━━━━━━━━━━━━━\u001b[0m\u001b[37m\u001b[0m \u001b[1m11s\u001b[0m 23ms/step - accuracy: 0.9690 - loss: 0.0977 - val_accuracy: 0.9606 - val_loss: 0.1270\n",
      "Epoch 4/30\n",
      "\u001b[1m469/469\u001b[0m \u001b[32m━━━━━━━━━━━━━━━━━━━━\u001b[0m\u001b[37m\u001b[0m \u001b[1m10s\u001b[0m 22ms/step - accuracy: 0.9748 - loss: 0.0783 - val_accuracy: 0.9682 - val_loss: 0.1036\n",
      "Epoch 5/30\n",
      "\u001b[1m469/469\u001b[0m \u001b[32m━━━━━━━━━━━━━━━━━━━━\u001b[0m\u001b[37m\u001b[0m \u001b[1m19s\u001b[0m 19ms/step - accuracy: 0.9796 - loss: 0.0649 - val_accuracy: 0.9711 - val_loss: 0.0972\n",
      "Epoch 6/30\n",
      "\u001b[1m469/469\u001b[0m \u001b[32m━━━━━━━━━━━━━━━━━━━━\u001b[0m\u001b[37m\u001b[0m \u001b[1m11s\u001b[0m 20ms/step - accuracy: 0.9806 - loss: 0.0603 - val_accuracy: 0.9754 - val_loss: 0.0939\n",
      "Epoch 7/30\n",
      "\u001b[1m469/469\u001b[0m \u001b[32m━━━━━━━━━━━━━━━━━━━━\u001b[0m\u001b[37m\u001b[0m \u001b[1m11s\u001b[0m 24ms/step - accuracy: 0.9830 - loss: 0.0514 - val_accuracy: 0.9703 - val_loss: 0.1013\n",
      "Epoch 8/30\n",
      "\u001b[1m469/469\u001b[0m \u001b[32m━━━━━━━━━━━━━━━━━━━━\u001b[0m\u001b[37m\u001b[0m \u001b[1m8s\u001b[0m 17ms/step - accuracy: 0.9846 - loss: 0.0462 - val_accuracy: 0.9726 - val_loss: 0.1051\n",
      "Epoch 9/30\n",
      "\u001b[1m469/469\u001b[0m \u001b[32m━━━━━━━━━━━━━━━━━━━━\u001b[0m\u001b[37m\u001b[0m \u001b[1m10s\u001b[0m 21ms/step - accuracy: 0.9856 - loss: 0.0433 - val_accuracy: 0.9733 - val_loss: 0.0971\n",
      "Epoch 10/30\n",
      "\u001b[1m469/469\u001b[0m \u001b[32m━━━━━━━━━━━━━━━━━━━━\u001b[0m\u001b[37m\u001b[0m \u001b[1m12s\u001b[0m 24ms/step - accuracy: 0.9869 - loss: 0.0394 - val_accuracy: 0.9754 - val_loss: 0.0948\n",
      "Epoch 11/30\n",
      "\u001b[1m469/469\u001b[0m \u001b[32m━━━━━━━━━━━━━━━━━━━━\u001b[0m\u001b[37m\u001b[0m \u001b[1m8s\u001b[0m 18ms/step - accuracy: 0.9870 - loss: 0.0390 - val_accuracy: 0.9733 - val_loss: 0.1012\n",
      "Epoch 12/30\n",
      "\u001b[1m469/469\u001b[0m \u001b[32m━━━━━━━━━━━━━━━━━━━━\u001b[0m\u001b[37m\u001b[0m \u001b[1m10s\u001b[0m 22ms/step - accuracy: 0.9897 - loss: 0.0315 - val_accuracy: 0.9752 - val_loss: 0.0941\n",
      "Epoch 13/30\n",
      "\u001b[1m469/469\u001b[0m \u001b[32m━━━━━━━━━━━━━━━━━━━━\u001b[0m\u001b[37m\u001b[0m \u001b[1m8s\u001b[0m 17ms/step - accuracy: 0.9896 - loss: 0.0318 - val_accuracy: 0.9723 - val_loss: 0.1106\n",
      "Epoch 14/30\n",
      "\u001b[1m469/469\u001b[0m \u001b[32m━━━━━━━━━━━━━━━━━━━━\u001b[0m\u001b[37m\u001b[0m \u001b[1m9s\u001b[0m 19ms/step - accuracy: 0.9887 - loss: 0.0343 - val_accuracy: 0.9771 - val_loss: 0.0976\n",
      "Epoch 15/30\n",
      "\u001b[1m469/469\u001b[0m \u001b[32m━━━━━━━━━━━━━━━━━━━━\u001b[0m\u001b[37m\u001b[0m \u001b[1m12s\u001b[0m 22ms/step - accuracy: 0.9911 - loss: 0.0255 - val_accuracy: 0.9796 - val_loss: 0.0846\n",
      "Epoch 16/30\n",
      "\u001b[1m469/469\u001b[0m \u001b[32m━━━━━━━━━━━━━━━━━━━━\u001b[0m\u001b[37m\u001b[0m \u001b[1m19s\u001b[0m 20ms/step - accuracy: 0.9921 - loss: 0.0240 - val_accuracy: 0.9745 - val_loss: 0.1156\n",
      "Epoch 17/30\n",
      "\u001b[1m469/469\u001b[0m \u001b[32m━━━━━━━━━━━━━━━━━━━━\u001b[0m\u001b[37m\u001b[0m \u001b[1m8s\u001b[0m 18ms/step - accuracy: 0.9917 - loss: 0.0262 - val_accuracy: 0.9754 - val_loss: 0.1161\n",
      "Epoch 18/30\n",
      "\u001b[1m469/469\u001b[0m \u001b[32m━━━━━━━━━━━━━━━━━━━━\u001b[0m\u001b[37m\u001b[0m \u001b[1m9s\u001b[0m 20ms/step - accuracy: 0.9907 - loss: 0.0302 - val_accuracy: 0.9771 - val_loss: 0.1031\n",
      "Epoch 19/30\n",
      "\u001b[1m469/469\u001b[0m \u001b[32m━━━━━━━━━━━━━━━━━━━━\u001b[0m\u001b[37m\u001b[0m \u001b[1m11s\u001b[0m 23ms/step - accuracy: 0.9937 - loss: 0.0196 - val_accuracy: 0.9753 - val_loss: 0.1301\n",
      "Epoch 20/30\n",
      "\u001b[1m469/469\u001b[0m \u001b[32m━━━━━━━━━━━━━━━━━━━━\u001b[0m\u001b[37m\u001b[0m \u001b[1m19s\u001b[0m 19ms/step - accuracy: 0.9919 - loss: 0.0248 - val_accuracy: 0.9755 - val_loss: 0.1164\n",
      "Epoch 21/30\n",
      "\u001b[1m469/469\u001b[0m \u001b[32m━━━━━━━━━━━━━━━━━━━━\u001b[0m\u001b[37m\u001b[0m \u001b[1m8s\u001b[0m 17ms/step - accuracy: 0.9940 - loss: 0.0190 - val_accuracy: 0.9783 - val_loss: 0.1156\n",
      "Epoch 22/30\n",
      "\u001b[1m469/469\u001b[0m \u001b[32m━━━━━━━━━━━━━━━━━━━━\u001b[0m\u001b[37m\u001b[0m \u001b[1m9s\u001b[0m 19ms/step - accuracy: 0.9933 - loss: 0.0216 - val_accuracy: 0.9748 - val_loss: 0.1203\n",
      "Epoch 23/30\n",
      "\u001b[1m469/469\u001b[0m \u001b[32m━━━━━━━━━━━━━━━━━━━━\u001b[0m\u001b[37m\u001b[0m \u001b[1m9s\u001b[0m 19ms/step - accuracy: 0.9949 - loss: 0.0161 - val_accuracy: 0.9737 - val_loss: 0.1469\n",
      "Epoch 24/30\n",
      "\u001b[1m469/469\u001b[0m \u001b[32m━━━━━━━━━━━━━━━━━━━━\u001b[0m\u001b[37m\u001b[0m \u001b[1m8s\u001b[0m 18ms/step - accuracy: 0.9918 - loss: 0.0257 - val_accuracy: 0.9744 - val_loss: 0.1251\n",
      "Epoch 25/30\n",
      "\u001b[1m469/469\u001b[0m \u001b[32m━━━━━━━━━━━━━━━━━━━━\u001b[0m\u001b[37m\u001b[0m \u001b[1m11s\u001b[0m 23ms/step - accuracy: 0.9944 - loss: 0.0188 - val_accuracy: 0.9761 - val_loss: 0.1254\n",
      "Epoch 26/30\n",
      "\u001b[1m469/469\u001b[0m \u001b[32m━━━━━━━━━━━━━━━━━━━━\u001b[0m\u001b[37m\u001b[0m \u001b[1m9s\u001b[0m 19ms/step - accuracy: 0.9954 - loss: 0.0153 - val_accuracy: 0.9782 - val_loss: 0.1122\n",
      "Epoch 27/30\n",
      "\u001b[1m469/469\u001b[0m \u001b[32m━━━━━━━━━━━━━━━━━━━━\u001b[0m\u001b[37m\u001b[0m \u001b[1m10s\u001b[0m 21ms/step - accuracy: 0.9949 - loss: 0.0166 - val_accuracy: 0.9737 - val_loss: 0.1422\n",
      "Epoch 28/30\n",
      "\u001b[1m469/469\u001b[0m \u001b[32m━━━━━━━━━━━━━━━━━━━━\u001b[0m\u001b[37m\u001b[0m \u001b[1m8s\u001b[0m 17ms/step - accuracy: 0.9945 - loss: 0.0168 - val_accuracy: 0.9791 - val_loss: 0.1081\n",
      "Epoch 29/30\n",
      "\u001b[1m469/469\u001b[0m \u001b[32m━━━━━━━━━━━━━━━━━━━━\u001b[0m\u001b[37m\u001b[0m \u001b[1m9s\u001b[0m 19ms/step - accuracy: 0.9955 - loss: 0.0146 - val_accuracy: 0.9787 - val_loss: 0.1034\n",
      "Epoch 30/30\n",
      "\u001b[1m469/469\u001b[0m \u001b[32m━━━━━━━━━━━━━━━━━━━━\u001b[0m\u001b[37m\u001b[0m \u001b[1m12s\u001b[0m 23ms/step - accuracy: 0.9940 - loss: 0.0202 - val_accuracy: 0.9769 - val_loss: 0.1110\n"
     ]
    },
    {
     "name": "stderr",
     "output_type": "stream",
     "text": [
      "2025/09/12 19:46:51 WARNING mlflow.utils.autologging_utils: Encountered unexpected error during tensorflow autologging: INTERNAL_ERROR: Response: {'error': 'unsupported endpoint, please contact support@dagshub.com'}\n"
     ]
    },
    {
     "name": "stdout",
     "output_type": "stream",
     "text": [
      "🏃 View run Experimento 4 - Selu at: https://dagshub.com/mseguracarrillo7/Red-densa.mlflow/#/experiments/0/runs/fe3498f37e8c4179a012f11623b59060\n",
      "🧪 View experiment at: https://dagshub.com/mseguracarrillo7/Red-densa.mlflow/#/experiments/0\n"
     ]
    }
   ],
   "source": [
    "with mlflow.start_run(run_name=\"Experimento 4 - Selu\"):\n",
    "    model4 = model_exp4()\n",
    "    history = model4.fit(x_trainv, y_trainc, \n",
    "                        validation_data=(x_testv, y_testc),\n",
    "                        epochs=30, batch_size=128, verbose=1)\n",
    "\n",
    "    # Registrar modelo entrenado\n",
    "    model4.save(\"Modelo4.keras\")\n",
    "    mlflow.log_artifact(\"modelo4.keras\")\n",
    "\n",
    "    # Registrar hiperparámetros\n",
    "    mlflow.log_params({\n",
    "        \"epochs\": 30,\n",
    "        \"batch_size\": 128,\n",
    "        \"optimizer\": \"adam\"\n",
    "    })\n",
    "\n",
    "    # Registrar métricas última capa [-1]\n",
    "    mlflow.log_metrics({\n",
    "        \"train_accuracy\": history.history[\"accuracy\"][-1],\n",
    "        \"val_accuracy\": history.history[\"val_accuracy\"][-1]\n",
    "    })\n",
    "\n",
    "    # Registrar métricas por época en mlflow\n",
    "    for epoch in range(len(history.history[\"accuracy\"])):\n",
    "        mlflow.log_metric(\"train_accuracy_epoch\", history.history[\"accuracy\"][epoch], step=epoch)\n",
    "        mlflow.log_metric(\"val_accuracy_epoch\", history.history[\"val_accuracy\"][epoch], step=epoch)\n",
    "        mlflow.log_metric(\"train_loss_epoch\", history.history[\"loss\"][epoch], step=epoch)\n",
    "        mlflow.log_metric(\"val_loss_epoch\", history.history[\"val_loss\"][epoch], step=epoch)\n",
    "    "
   ]
  },
  {
   "cell_type": "code",
   "execution_count": 51,
   "id": "65b84de9-f5cb-4267-8831-90e800e37199",
   "metadata": {},
   "outputs": [
    {
     "name": "stdout",
     "output_type": "stream",
     "text": [
      "\u001b[1m313/313\u001b[0m \u001b[32m━━━━━━━━━━━━━━━━━━━━\u001b[0m\u001b[37m\u001b[0m \u001b[1m2s\u001b[0m 6ms/step - accuracy: 0.9769 - loss: 0.1110\n",
      "Exactitud en el conjunto de prueba: 0.9769\n"
     ]
    }
   ],
   "source": [
    "test_loss, test_acc = model4.evaluate(x_testv, y_testc, verbose=1)\n",
    "print(f\"Exactitud en el conjunto de prueba: {test_acc:.4f}\")"
   ]
  }
 ],
 "metadata": {
  "kernelspec": {
   "display_name": "Python (tf_env)",
   "language": "python",
   "name": "tf_env"
  },
  "language_info": {
   "codemirror_mode": {
    "name": "ipython",
    "version": 3
   },
   "file_extension": ".py",
   "mimetype": "text/x-python",
   "name": "python",
   "nbconvert_exporter": "python",
   "pygments_lexer": "ipython3",
   "version": "3.10.18"
  }
 },
 "nbformat": 4,
 "nbformat_minor": 5
}
